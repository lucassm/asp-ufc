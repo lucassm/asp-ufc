{
 "cells": [
  {
   "cell_type": "code",
   "execution_count": 139,
   "id": "b00e08dc",
   "metadata": {},
   "outputs": [],
   "source": [
    "import GridCalEngine.api as gce\n",
    "import numpy as np"
   ]
  },
  {
   "cell_type": "code",
   "execution_count": 140,
   "id": "439b8aec",
   "metadata": {},
   "outputs": [],
   "source": [
    "def p(m, a):\n",
    "    return abs(m) * np.exp(1j * np.deg2rad(a))"
   ]
  },
  {
   "cell_type": "code",
   "execution_count": 141,
   "id": "646a3366",
   "metadata": {},
   "outputs": [],
   "source": [
    "# %% Cria o objeto Rede\n",
    "# declare a circuit object\n",
    "grid = gce.MultiCircuit()"
   ]
  },
  {
   "cell_type": "code",
   "execution_count": 142,
   "id": "d77e11f1",
   "metadata": {},
   "outputs": [
    {
     "data": {
      "text/plain": [
       ".::65680d6678364980a850e1865e866012::Slack Generator"
      ]
     },
     "execution_count": 142,
     "metadata": {},
     "output_type": "execute_result"
    }
   ],
   "source": [
    "# %% Cria a barra 1g e um gerador. Conecta o gerador na barra criada\n",
    "\n",
    "bus1 = gce.Bus('Bus 1', Vnom=13.8)\n",
    "bus1.is_slack = True  # we may mark the bus a slack\n",
    "grid.add_bus(bus1)\n",
    "\n",
    "gen1 = gce.Generator('Slack Generator',\n",
    "                     vset=1.05,\n",
    "                     Snom=100.0,\n",
    "                     is_controlled=True,\n",
    "                     power_factor=0.95,\n",
    "                     x1=0.15, x2=0.17, x0=0.05)\n",
    "grid.add_generator(bus1, gen1)"
   ]
  },
  {
   "cell_type": "code",
   "execution_count": 143,
   "id": "696a43d2",
   "metadata": {},
   "outputs": [],
   "source": [
    "# %% Cria a barra 2 e um transformador. Conecta o transformador entre as barras 1 e 2 \n",
    "bus2 = gce.Bus('Bus 2', Vnom=138.0)\n",
    "grid.add_bus(bus2)\n",
    "\n",
    "# add Transformer connecting the buses 1 and 2\n",
    "trafo1 = gce.Transformer2W(bus_from=bus2,\n",
    "                           bus_to=bus1,\n",
    "                           name='Transformer 1',\n",
    "                           HV=138.0,\n",
    "                           LV=13.8,\n",
    "                           rate=100.0,\n",
    "                           x=0.1,\n",
    "                           x2=0.1,\n",
    "                           x0=0.1,\n",
    "                           conn=gce.WindingsConnection.GD)\n",
    "grid.add_transformer2w(trafo1)"
   ]
  },
  {
   "cell_type": "code",
   "execution_count": 144,
   "id": "00550e1f",
   "metadata": {},
   "outputs": [
    {
     "data": {
      "text/plain": [
       ".::7af917c81c60403e91cfc717320f87c4::line 2"
      ]
     },
     "execution_count": 144,
     "metadata": {},
     "output_type": "execute_result"
    }
   ],
   "source": [
    "n = 0.5\n",
    "\n",
    "# %% Cria a barra 3 uma LT. Conecta a LT entre as barras 2 e 3\n",
    "bus3 = gce.Bus('Bus 3', Vnom=138.0)\n",
    "grid.add_bus(bus3)\n",
    "\n",
    "# %% Cria a barra 3 uma LT. Conecta a LT entre as barras 2 e 3\n",
    "bus23 = gce.Bus('Bus 23', Vnom=138.0)\n",
    "grid.add_bus(bus23)\n",
    "\n",
    "# add Line connecting the buses\n",
    "line1 = gce.Line(bus_from=bus2,\n",
    "                 bus_to=bus23,\n",
    "                 name='line 1',\n",
    "                 x=0.1050 * n,\n",
    "                 x2=0.1050 * n,\n",
    "                 x0=0.315 * n,\n",
    "                 rate=100)\n",
    "grid.add_line(line1)\n",
    "\n",
    "line2 = gce.Line(bus_from=bus23,\n",
    "                 bus_to=bus3,\n",
    "                 name='line 2',\n",
    "                 x=0.1050 * (1.0 - n),\n",
    "                 x2=0.1050 * (1.0 - n),\n",
    "                 x0=0.315 * (1.0 - n),\n",
    "                 rate=100)\n",
    "grid.add_line(line2)"
   ]
  },
  {
   "cell_type": "code",
   "execution_count": 145,
   "id": "23277189",
   "metadata": {},
   "outputs": [],
   "source": [
    "# %% Cria a barra 4 e um transformador. Conecta o transformador entre as barras 3 e 4\n",
    "bus4 = gce.Bus('Bus 4', Vnom=13.8)\n",
    "grid.add_bus(bus4)\n",
    "\n",
    "# add Transformer connecting the buses 1 and 2\n",
    "trafo2 = gce.Transformer2W(bus_from=bus3,\n",
    "                           bus_to=bus4,\n",
    "                           name='Transformer 2',\n",
    "                           HV=138.0,\n",
    "                           LV=13.8,\n",
    "                           rate=100.0,\n",
    "                           x=0.1,\n",
    "                           x2=0.1,\n",
    "                           x0=0.1,\n",
    "                           conn=gce.WindingsConnection.GD)\n",
    "grid.add_transformer2w(trafo2)"
   ]
  },
  {
   "cell_type": "code",
   "execution_count": 146,
   "id": "81f96e40",
   "metadata": {},
   "outputs": [
    {
     "data": {
      "text/plain": [
       ".::e4f0745992e54c94829dac40ace32596::Sincronous Motor"
      ]
     },
     "execution_count": 146,
     "metadata": {},
     "output_type": "execute_result"
    }
   ],
   "source": [
    "# %% Cria a carga (gerador/motor síncrono) e conecta a carga na barra 4m\n",
    "\n",
    "motor1 = gce.Generator('Sincronous Motor',\n",
    "                       P=-100.0,\n",
    "                       #P=0.0,\n",
    "                       #is_controlled=True,\n",
    "                       is_controlled=False,\n",
    "                       x1=0.20,\n",
    "                       x2=0.21,\n",
    "                       x0=0.10 + 3.0 * 0.05,\n",
    "                       power_factor=0.95,\n",
    "                       vset=1.05)\n",
    "\n",
    "grid.add_generator(bus4, motor1)\n"
   ]
  },
  {
   "cell_type": "code",
   "execution_count": 147,
   "id": "87b5b0cc",
   "metadata": {},
   "outputs": [],
   "source": [
    "# %% Executa cálculo de fluxo de carga\n",
    "pf_options = gce.PowerFlowOptions()\n",
    "pf = gce.PowerFlowDriver(grid, pf_options)\n",
    "pf.run()"
   ]
  },
  {
   "cell_type": "code",
   "execution_count": 148,
   "id": "08f1d7db",
   "metadata": {},
   "outputs": [
    {
     "data": {
      "text/html": [
       "<div>\n",
       "<style scoped>\n",
       "    .dataframe tbody tr th:only-of-type {\n",
       "        vertical-align: middle;\n",
       "    }\n",
       "\n",
       "    .dataframe tbody tr th {\n",
       "        vertical-align: top;\n",
       "    }\n",
       "\n",
       "    .dataframe thead th {\n",
       "        text-align: right;\n",
       "    }\n",
       "</style>\n",
       "<table border=\"1\" class=\"dataframe\">\n",
       "  <thead>\n",
       "    <tr style=\"text-align: right;\">\n",
       "      <th></th>\n",
       "      <th>Vm</th>\n",
       "      <th>Va</th>\n",
       "      <th>P</th>\n",
       "      <th>Q</th>\n",
       "    </tr>\n",
       "  </thead>\n",
       "  <tbody>\n",
       "    <tr>\n",
       "      <th>Bus 1</th>\n",
       "      <td>1.0500</td>\n",
       "      <td>0.0000</td>\n",
       "      <td>100.0000</td>\n",
       "      <td>76.8868</td>\n",
       "    </tr>\n",
       "    <tr>\n",
       "      <th>Bus 2</th>\n",
       "      <td>0.9814</td>\n",
       "      <td>-5.5689</td>\n",
       "      <td>-0.0000</td>\n",
       "      <td>0.0000</td>\n",
       "    </tr>\n",
       "    <tr>\n",
       "      <th>Bus 3</th>\n",
       "      <td>0.9208</td>\n",
       "      <td>-12.2411</td>\n",
       "      <td>-0.0000</td>\n",
       "      <td>0.0000</td>\n",
       "    </tr>\n",
       "    <tr>\n",
       "      <th>Bus 23</th>\n",
       "      <td>0.9495</td>\n",
       "      <td>-8.7986</td>\n",
       "      <td>-0.0000</td>\n",
       "      <td>0.0000</td>\n",
       "    </tr>\n",
       "    <tr>\n",
       "      <th>Bus 4</th>\n",
       "      <td>0.8762</td>\n",
       "      <td>-19.3607</td>\n",
       "      <td>-100.0000</td>\n",
       "      <td>-32.8684</td>\n",
       "    </tr>\n",
       "  </tbody>\n",
       "</table>\n",
       "</div>"
      ],
      "text/plain": [
       "           Vm       Va         P        Q\n",
       "Bus 1  1.0500   0.0000  100.0000  76.8868\n",
       "Bus 2  0.9814  -5.5689   -0.0000   0.0000\n",
       "Bus 3  0.9208 -12.2411   -0.0000   0.0000\n",
       "Bus 23 0.9495  -8.7986   -0.0000   0.0000\n",
       "Bus 4  0.8762 -19.3607 -100.0000 -32.8684"
      ]
     },
     "execution_count": 148,
     "metadata": {},
     "output_type": "execute_result"
    }
   ],
   "source": [
    "pf.results.get_bus_df()"
   ]
  },
  {
   "cell_type": "code",
   "execution_count": 149,
   "id": "4f8b2125",
   "metadata": {},
   "outputs": [
    {
     "data": {
      "text/html": [
       "<div>\n",
       "<style scoped>\n",
       "    .dataframe tbody tr th:only-of-type {\n",
       "        vertical-align: middle;\n",
       "    }\n",
       "\n",
       "    .dataframe tbody tr th {\n",
       "        vertical-align: top;\n",
       "    }\n",
       "\n",
       "    .dataframe thead th {\n",
       "        text-align: right;\n",
       "    }\n",
       "</style>\n",
       "<table border=\"1\" class=\"dataframe\">\n",
       "  <thead>\n",
       "    <tr style=\"text-align: right;\">\n",
       "      <th></th>\n",
       "      <th>Pf</th>\n",
       "      <th>Qf</th>\n",
       "      <th>Pt</th>\n",
       "      <th>Qt</th>\n",
       "      <th>loading</th>\n",
       "    </tr>\n",
       "  </thead>\n",
       "  <tbody>\n",
       "    <tr>\n",
       "      <th>line 1</th>\n",
       "      <td>100.0000</td>\n",
       "      <td>62.4546</td>\n",
       "      <td>-100.0000</td>\n",
       "      <td>-54.8776</td>\n",
       "      <td>100.0000</td>\n",
       "    </tr>\n",
       "    <tr>\n",
       "      <th>line 2</th>\n",
       "      <td>100.0000</td>\n",
       "      <td>54.8776</td>\n",
       "      <td>-100.0000</td>\n",
       "      <td>-47.3007</td>\n",
       "      <td>100.0000</td>\n",
       "    </tr>\n",
       "    <tr>\n",
       "      <th>Transformer 1</th>\n",
       "      <td>-100.0000</td>\n",
       "      <td>-62.4546</td>\n",
       "      <td>100.0000</td>\n",
       "      <td>76.8868</td>\n",
       "      <td>-100.0000</td>\n",
       "    </tr>\n",
       "    <tr>\n",
       "      <th>Transformer 2</th>\n",
       "      <td>100.0000</td>\n",
       "      <td>47.3007</td>\n",
       "      <td>-100.0000</td>\n",
       "      <td>-32.8684</td>\n",
       "      <td>100.0000</td>\n",
       "    </tr>\n",
       "  </tbody>\n",
       "</table>\n",
       "</div>"
      ],
      "text/plain": [
       "                     Pf       Qf        Pt       Qt   loading\n",
       "line 1         100.0000  62.4546 -100.0000 -54.8776  100.0000\n",
       "line 2         100.0000  54.8776 -100.0000 -47.3007  100.0000\n",
       "Transformer 1 -100.0000 -62.4546  100.0000  76.8868 -100.0000\n",
       "Transformer 2  100.0000  47.3007 -100.0000 -32.8684  100.0000"
      ]
     },
     "execution_count": 149,
     "metadata": {},
     "output_type": "execute_result"
    }
   ],
   "source": [
    "pf.results.get_branch_df()"
   ]
  },
  {
   "cell_type": "markdown",
   "id": "804d03d2",
   "metadata": {},
   "source": [
    "## 3ph Short Circuit"
   ]
  },
  {
   "cell_type": "code",
   "execution_count": 150,
   "id": "a13b7373",
   "metadata": {},
   "outputs": [],
   "source": [
    "# %% Executa cálculo de curto-circuito\n",
    "fault_index_1 = 3\n",
    "\n",
    "sc1_options = gce.ShortCircuitOptions(bus_index=fault_index_1, \n",
    "                                     fault_type=gce.FaultType.ph3)\n",
    "\n",
    "sc1 = gce.ShortCircuitDriver(grid,\n",
    "                            options=sc1_options, \n",
    "                            pf_options=pf_options, \n",
    "                            pf_results=pf.results)\n",
    "sc1.run()"
   ]
  },
  {
   "cell_type": "markdown",
   "id": "45409559",
   "metadata": {},
   "source": [
    "### Positive Sequence Currents"
   ]
  },
  {
   "cell_type": "code",
   "execution_count": 151,
   "id": "ddac0c5f",
   "metadata": {},
   "outputs": [
    {
     "data": {
      "text/plain": [
       "array(['Bus 1', 'Bus 2', 'Bus 3', 'Bus 23', 'Bus 4'], dtype=object)"
      ]
     },
     "execution_count": 151,
     "metadata": {},
     "output_type": "execute_result"
    }
   ],
   "source": [
    "pf.results.bus_names"
   ]
  },
  {
   "cell_type": "code",
   "execution_count": 152,
   "id": "69bac849",
   "metadata": {},
   "outputs": [
    {
     "data": {
      "text/plain": [
       "array(['line 1', 'line 2', 'Transformer 1', 'Transformer 2'], dtype=object)"
      ]
     },
     "execution_count": 152,
     "metadata": {},
     "output_type": "execute_result"
    }
   ],
   "source": [
    "pf.results.branch_names"
   ]
  },
  {
   "cell_type": "code",
   "execution_count": 153,
   "id": "6f70ab96",
   "metadata": {},
   "outputs": [
    {
     "name": "stdout",
     "output_type": "stream",
     "text": [
      "Branch name: line 1          | It Module: 3.8632 | 97.0217\n",
      "Branch name: line 2          | It Module: 2.3633 | -125.2627\n",
      "Branch name: Transformer 1   | It Module: 3.8632 | -82.9783\n",
      "Branch name: Transformer 2   | It Module: 2.3633 | -125.2627\n",
      "\n",
      "----------------------------------------\n",
      "Branch name: line 1          | If Module: 3.8632 | -82.9783\n",
      "Branch name: line 2          | If Module: 2.3633 | 54.7373\n",
      "Branch name: Transformer 1   | If Module: 3.8632 | 97.0217\n",
      "Branch name: Transformer 2   | If Module: 2.3633 | 54.7373\n"
     ]
    }
   ],
   "source": [
    "for i, j in zip(sc1.results.branch_names, sc1.results.It1):\n",
    "    print(f\"Branch name: {i:15} | It Module: {abs(j):.4f} | {np.angle(j, deg=True):.4f}\")\n",
    "\n",
    "print(\"\\n----------------------------------------\")\n",
    "\n",
    "for i, j in zip(sc1.results.branch_names, sc1.results.If1):\n",
    "    print(f\"Branch name: {i:15} | If Module: {abs(j):.4f} | {np.angle(j, deg=True):.4f}\")"
   ]
  },
  {
   "cell_type": "code",
   "execution_count": 154,
   "id": "ee7b9a01",
   "metadata": {},
   "outputs": [
    {
     "name": "stdout",
     "output_type": "stream",
     "text": [
      "Corrente de cc 3ph: 5.8325 | -98.7986\n"
     ]
    }
   ],
   "source": [
    "# cálculo da corrente de curto circuito na barra sob falta (barra = 3, index = 2)\n",
    "Icc3ph_gc = sc1.results.If1[0] + sc1.results.It1[1]\n",
    "print(f\"Corrente de cc 3ph: {abs(Icc3ph_gc):.4f} | {np.angle(Icc3ph_gc, deg=True):.4f}\")"
   ]
  },
  {
   "cell_type": "markdown",
   "id": "039baf3c",
   "metadata": {},
   "source": [
    "## Assymetric Shor Circuit"
   ]
  },
  {
   "cell_type": "code",
   "execution_count": 155,
   "id": "48e49934",
   "metadata": {},
   "outputs": [],
   "source": [
    "# %% Executa cálculo de curto-circuito\n",
    "# fault_index_2 = 1\n",
    "fault_index_2 = 3\n",
    "sc2_options = gce.ShortCircuitOptions(bus_index=fault_index_2, \n",
    "                                      fault_type=gce.FaultType.LG)\n",
    "\n",
    "sc2 = gce.ShortCircuitDriver(grid,\n",
    "                             options=sc2_options,\n",
    "                             pf_options=pf_options,\n",
    "                             pf_results=pf.results)\n",
    "sc2.run()"
   ]
  },
  {
   "cell_type": "markdown",
   "id": "921f2997",
   "metadata": {},
   "source": [
    "### Positive Sequence Currents"
   ]
  },
  {
   "cell_type": "code",
   "execution_count": 156,
   "id": "f9829d28",
   "metadata": {},
   "outputs": [
    {
     "name": "stdout",
     "output_type": "stream",
     "text": [
      "Branch name: line 1          | Fault Current Value: 1.9858 | 143.2311\n",
      "Branch name: line 2          | Fault Current Value: 1.1165 | -139.4044\n",
      "Branch name: Transformer 1   | Fault Current Value: 1.9858 | -66.7689\n",
      "Branch name: Transformer 2   | Fault Current Value: 1.1165 | -169.4044\n"
     ]
    }
   ],
   "source": [
    "for i, j in zip(sc2.results.branch_names, sc2.results.It1):\n",
    "    print(f\"Branch name: {i:15} | Fault Current Value: {abs(j):.4f} | {np.angle(j, deg=True):.4f}\")"
   ]
  },
  {
   "cell_type": "markdown",
   "id": "371dd798",
   "metadata": {},
   "source": [
    "### Negative Sequence Currents"
   ]
  },
  {
   "cell_type": "code",
   "execution_count": 157,
   "id": "da82f0a1",
   "metadata": {},
   "outputs": [
    {
     "name": "stdout",
     "output_type": "stream",
     "text": [
      "Branch name: line 1          | Fault Current Value: 1.0871 | 111.2014\n",
      "Branch name: line 2          | Fault Current Value: 0.9672 | -68.7986\n",
      "Branch name: Transformer 1   | Fault Current Value: 1.0871 | -38.7986\n",
      "Branch name: Transformer 2   | Fault Current Value: 0.9672 | -38.7986\n"
     ]
    }
   ],
   "source": [
    "for i, j in zip(sc2.results.branch_names, sc2.results.It2):\n",
    "    print(f\"Branch name: {i:15} | Fault Current Value: {abs(j):.4f} | {np.angle(j, deg=True):.4f}\")"
   ]
  },
  {
   "cell_type": "markdown",
   "id": "41f90b5d",
   "metadata": {},
   "source": [
    "### Zero Sequence Currents"
   ]
  },
  {
   "cell_type": "code",
   "execution_count": 158,
   "id": "4749b06f",
   "metadata": {},
   "outputs": [
    {
     "name": "stdout",
     "output_type": "stream",
     "text": [
      "Branch name: line 1          | Fault Current Value: 1.0271 | 111.2014\n",
      "Branch name: line 2          | Fault Current Value: 1.0271 | -68.7986\n",
      "Branch name: Transformer 1   | Fault Current Value: 0.0000 | 0.0000\n",
      "Branch name: Transformer 2   | Fault Current Value: 0.0000 | 0.0000\n"
     ]
    }
   ],
   "source": [
    "for i, j in zip(sc2.results.branch_names, sc2.results.It0):\n",
    "    print(f\"Branch name: {i:15} | Fault Current Value: {abs(j):.4f} | {np.angle(j, deg=True):.4f}\")"
   ]
  },
  {
   "cell_type": "code",
   "execution_count": 159,
   "id": "df4c5c51",
   "metadata": {},
   "outputs": [
    {
     "data": {
      "text/plain": [
       "[.::baaf7a13963d42f5ba881285fc6fe392::Bus 1,\n",
       " .::78e909573463476fb8e2d03ad6a18907::Bus 2,\n",
       " .::e8e76eacc3ab4690a155769e7b0feaec::Bus 3,\n",
       " .::cc15356ac028423d96c452b5c1ddd5a5::Bus 23,\n",
       " .::144c0a6765124971a81597bf36844842::Bus 4]"
      ]
     },
     "execution_count": 159,
     "metadata": {},
     "output_type": "execute_result"
    }
   ],
   "source": [
    "grid.buses"
   ]
  },
  {
   "cell_type": "code",
   "execution_count": 160,
   "id": "dfc286ee",
   "metadata": {},
   "outputs": [
    {
     "data": {
      "text/plain": [
       "array([ 1.5907287 -1.18867172j,  0.84781041+0.72654855j, -1.59072872+1.18867171j,  0.8478103 +0.72654849j])"
      ]
     },
     "execution_count": 160,
     "metadata": {},
     "output_type": "execute_result"
    }
   ],
   "source": [
    "sc2.results.If1"
   ]
  },
  {
   "cell_type": "code",
   "execution_count": 161,
   "id": "c1bc8eb1",
   "metadata": {},
   "outputs": [
    {
     "data": {
      "text/plain": [
       "array([-1.5907287 +1.18867172j, -0.84781041-0.72654855j,  0.78327563-1.82478426j, -1.0974995 -0.2053043j ])"
      ]
     },
     "execution_count": 161,
     "metadata": {},
     "output_type": "execute_result"
    }
   ],
   "source": [
    "sc2.results.It1"
   ]
  },
  {
   "cell_type": "markdown",
   "id": "acca4c86",
   "metadata": {},
   "source": [
    "### Cálculo da correntes de Curto-Circuito na barra sob falta"
   ]
  },
  {
   "cell_type": "code",
   "execution_count": 162,
   "id": "f3034a14",
   "metadata": {},
   "outputs": [
    {
     "data": {
      "text/plain": [
       "array(['line 1', 'line 2', 'Transformer 1', 'Transformer 2'], dtype=object)"
      ]
     },
     "execution_count": 162,
     "metadata": {},
     "output_type": "execute_result"
    }
   ],
   "source": [
    "sc2.results.branch_names"
   ]
  },
  {
   "cell_type": "code",
   "execution_count": 163,
   "id": "223139af",
   "metadata": {},
   "outputs": [
    {
     "data": {
      "text/plain": [
       "2.054262958302996"
      ]
     },
     "execution_count": 163,
     "metadata": {},
     "output_type": "execute_result"
    }
   ],
   "source": [
    "# cálculo da corrente de curto circuito na barra sob falta\n",
    "abs(sc2.results.If1[0] + sc2.results.It1[1])"
   ]
  },
  {
   "cell_type": "code",
   "execution_count": 164,
   "id": "3b6c4e7a",
   "metadata": {},
   "outputs": [
    {
     "data": {
      "text/plain": [
       "2.05426296286584"
      ]
     },
     "execution_count": 164,
     "metadata": {},
     "output_type": "execute_result"
    }
   ],
   "source": [
    "abs(sc2.results.If2[0] + sc2.results.It2[1])"
   ]
  },
  {
   "cell_type": "code",
   "execution_count": 165,
   "id": "b6cb4b18",
   "metadata": {},
   "outputs": [
    {
     "data": {
      "text/plain": [
       "2.054262962865841"
      ]
     },
     "execution_count": 165,
     "metadata": {},
     "output_type": "execute_result"
    }
   ],
   "source": [
    "abs(sc2.results.If0[0] + sc2.results.It0[1])"
   ]
  },
  {
   "cell_type": "code",
   "execution_count": 166,
   "id": "fe164d5d",
   "metadata": {},
   "outputs": [],
   "source": [
    "def p(m, a):\n",
    "    return abs(m) * (np.cos(np.deg2rad(a)) + 1j * np.sin(np.deg2rad(a)))"
   ]
  },
  {
   "cell_type": "code",
   "execution_count": 167,
   "id": "4275a5dd",
   "metadata": {},
   "outputs": [],
   "source": [
    "a = p(1.0, 120.0)\n",
    "A = np.array([\n",
    "             [1.0, 1.0, 1.0],\n",
    "             [1.0, a**2, a],\n",
    "             [1.0, a, a**2]])\n",
    "A.shape = (3, 3)"
   ]
  },
  {
   "cell_type": "code",
   "execution_count": 168,
   "id": "1b553f0c",
   "metadata": {},
   "outputs": [
    {
     "data": {
      "text/plain": [
       "array([[ 1. -0.j       ,  1. +0.j       ,  1. +0.j       ],\n",
       "       [ 1. +0.j       , -0.5+0.8660254j, -0.5-0.8660254j],\n",
       "       [ 1. +0.j       , -0.5-0.8660254j, -0.5+0.8660254j]])"
      ]
     },
     "execution_count": 168,
     "metadata": {},
     "output_type": "execute_result"
    }
   ],
   "source": [
    "np.linalg.inv(A) * 3"
   ]
  },
  {
   "cell_type": "code",
   "execution_count": 169,
   "id": "f2613b05",
   "metadata": {},
   "outputs": [
    {
     "data": {
      "text/plain": [
       "array([[0.-16.66666667j, 0.+10.j        , 0. +0.j        , 0. +0.j        , 0. +0.j        ],\n",
       "       [0.+10.j        , 0.-29.04761905j, 0. +0.j        , 0. +0.j        , 0.+19.04761905j],\n",
       "       [0. +0.j        , 0. +0.j        , 0.-29.04761905j, 0.+10.j        , 0.+19.04761905j],\n",
       "       [0. +0.j        , 0. +0.j        , 0.+10.j        , 0.-15.j        , 0. +0.j        ],\n",
       "       [0. +0.j        , 0.+19.04761905j, 0.+19.04761905j, 0. +0.j        , 0.-38.0952381j ]])"
      ]
     },
     "execution_count": 169,
     "metadata": {},
     "output_type": "execute_result"
    }
   ],
   "source": [
    "Y1 = np.array([\n",
    "    [1.0 / 0.15j + 1.0 / 0.1j, -1.0/0.1j, 0.0, 0.0, 0.0], # Bus 1 ok\n",
    "    [-1.0/0.1j, 1.0 / 0.1j + 1.0 / (0.105j * n), 0.0, 0.0, -1.0 / (0.105j * n)], # Bus 2 ok\n",
    "    [0.0, 0.0, 1.0 / 0.1j + 1.0 / (0.105j * (1.0 - n)), -1.0/0.1j, -1.0 / (0.105j * (1.0 - n))], # Bus 3 ok\n",
    "    [0.0, 0.0, -1.0/0.1j, 1.0 / 0.1j + 1.0 / 0.2j, 0.0], # Bus 4 ok\n",
    "    [0.0,  -1.0 / (0.105j * n),  -1.0 / (0.105j * (1.0 - n)), 0.0, 1.0 / (0.105j * n) + 1.0 / (0.105j * (1.0 - n))] # Bus 23 ok\n",
    "    ]) \n",
    "Y1"
   ]
  },
  {
   "cell_type": "code",
   "execution_count": 170,
   "id": "380d867e",
   "metadata": {},
   "outputs": [
    {
     "data": {
      "text/plain": [
       "array([[0.+0.11564885j, 0.+0.09274809j, 0.+0.06870229j, 0.+0.04580153j, 0.+0.08072519j],\n",
       "       [0.+0.09274809j, 0.+0.15458015j, 0.+0.11450382j, 0.+0.07633588j, 0.+0.13454198j],\n",
       "       [0.+0.06870229j, 0.+0.11450382j, 0.+0.16259542j, 0.+0.10839695j, 0.+0.13854962j],\n",
       "       [0.+0.04580153j, 0.+0.07633588j, 0.+0.10839695j, 0.+0.1389313j , 0.+0.09236641j],\n",
       "       [0.+0.08072519j, 0.+0.13454198j, 0.+0.13854962j, 0.+0.09236641j, 0.+0.1627958j ]])"
      ]
     },
     "execution_count": 170,
     "metadata": {},
     "output_type": "execute_result"
    }
   ],
   "source": [
    "Z1 = np.linalg.inv(Y1)\n",
    "Z1"
   ]
  },
  {
   "cell_type": "code",
   "execution_count": 171,
   "id": "a820000b",
   "metadata": {},
   "outputs": [
    {
     "data": {
      "text/plain": [
       "array([[0.-15.88235294j, 0.+10.j        , 0. +0.j        , 0. +0.j        , 0. +0.j        ],\n",
       "       [0.+10.j        , 0.-29.04761905j, 0. +0.j        , 0. +0.j        , 0.+19.04761905j],\n",
       "       [0. +0.j        , 0. +0.j        , 0.-29.04761905j, 0.+10.j        , 0.+19.04761905j],\n",
       "       [0. +0.j        , 0. +0.j        , 0.+10.j        , 0.-14.76190476j, 0. +0.j        ],\n",
       "       [0. +0.j        , 0.+19.04761905j, 0.+19.04761905j, 0. +0.j        , 0.-38.0952381j ]])"
      ]
     },
     "execution_count": 171,
     "metadata": {},
     "output_type": "execute_result"
    }
   ],
   "source": [
    "Y2 = np.array([\n",
    "    [1.0 / 0.17j + 1.0 / 0.1j, -1.0/0.1j, 0.0, 0.0, 0.0], # Bus 1 ok\n",
    "    [-1.0/0.1j, 1.0 / 0.1j + 1.0 / (0.105j * n), 0.0, 0.0, -1.0 / (0.105j * n)], # Bus 2 ok\n",
    "    [0.0, 0.0, 1.0 / 0.1j + 1.0 / (0.105j * (1.0 - n)), -1.0/0.1j, -1.0 / (0.105j * (1.0 - n))], # Bus 3 ok\n",
    "    [0.0, 0.0, -1.0/0.1j, 1.0 / 0.1j + 1.0 / 0.21j, 0.0], # Bus 4 ok\n",
    "    [0.0,  -1.0 / (0.105j * n),  -1.0 / (0.105j * (1.0 - n)), 0.0, 1.0 / (0.105j * n) + 1.0 / (0.105j * (1.0 - n))] # Bus 23 ok\n",
    "    ]) \n",
    "Y2"
   ]
  },
  {
   "cell_type": "code",
   "execution_count": 172,
   "id": "c67e7bc3",
   "metadata": {},
   "outputs": [
    {
     "data": {
      "text/plain": [
       "array([[0.+0.12781022j, 0.+0.1029927j , 0.+0.07693431j, 0.+0.05211679j, 0.+0.0899635j ],\n",
       "       [0.+0.1029927j , 0.+0.16357664j, 0.+0.12218978j, 0.+0.08277372j, 0.+0.14288321j],\n",
       "       [0.+0.07693431j, 0.+0.12218978j, 0.+0.16970803j, 0.+0.1149635j , 0.+0.14594891j],\n",
       "       [0.+0.05211679j, 0.+0.08277372j, 0.+0.1149635j , 0.+0.14562044j, 0.+0.09886861j],\n",
       "       [0.+0.0899635j , 0.+0.14288321j, 0.+0.14594891j, 0.+0.09886861j, 0.+0.17066606j]])"
      ]
     },
     "execution_count": 172,
     "metadata": {},
     "output_type": "execute_result"
    }
   ],
   "source": [
    "Z2 = np.linalg.inv(Y2)\n",
    "Z2"
   ]
  },
  {
   "cell_type": "code",
   "execution_count": 173,
   "id": "168a8b6f",
   "metadata": {},
   "outputs": [
    {
     "data": {
      "text/plain": [
       "array([[0.-20.j        , 0. +0.j        , 0. +0.j        , 0. +0.j        , 0. +0.j        ],\n",
       "       [0. +0.j        , 0.-16.34920635j, 0. +0.j        , 0. +0.j        , 0. +6.34920635j],\n",
       "       [0. +0.j        , 0. +0.j        , 0.-16.34920635j, 0. +0.j        , 0. +6.34920635j],\n",
       "       [0. +0.j        , 0. +0.j        , 0. +0.j        , 0. -4.j        , 0. +0.j        ],\n",
       "       [0. +0.j        , 0. +6.34920635j, 0. +6.34920635j, 0. +0.j        , 0.-12.6984127j ]])"
      ]
     },
     "execution_count": 173,
     "metadata": {},
     "output_type": "execute_result"
    }
   ],
   "source": [
    "Y0 = np.array([[1.0 / (0.05j), 0.0, 0.0, 0.0, 0.0], # Bus 1 ok\n",
    "               [0.0, 1.0 / 0.1j + 1.0 / (0.315j * n), 0.0, 0.0, -1.0 / (0.315j * n)], # Bus 2 ok\n",
    "               [0.0, 0.0, 1.0 / 0.1j + 1.0 / (0.315j * (1.0 - n)), 0.0, -1.0 / (0.315j * (1.0 - n))], # Bus 3 ok\n",
    "               [0.0, 0.0, 0.0, 1.0 / (0.1j + 0.15j), 0.0], # Bus 4 ok\n",
    "               [0.0, -1.0 / (0.315j * n), -1.0 / (0.315j * (1.0 - n)), 0.0, 1.0 / (0.315j * n) + 1.0 / (0.315j * (1.0 - n))] # Bus 23 ok\n",
    "               ])\n",
    "Y0"
   ]
  },
  {
   "cell_type": "code",
   "execution_count": 174,
   "id": "7c74e1d1",
   "metadata": {},
   "outputs": [
    {
     "data": {
      "text/plain": [
       "array([[ 0.+0.05j      ,  0.+0.j        ,  0.+0.j        ,  0.+0.j        ,  0.+0.j        ],\n",
       "       [ 0.+0.j        ,  0.+0.08058252j,  0.+0.01941748j,  0.+0.j        ,  0.+0.05j      ],\n",
       "       [ 0.+0.j        ,  0.+0.01941748j,  0.+0.08058252j, -0.+0.j        ,  0.+0.05j      ],\n",
       "       [-0.+0.j        , -0.+0.j        , -0.+0.j        ,  0.+0.25j      , -0.+0.j        ],\n",
       "       [ 0.+0.j        ,  0.+0.05j      ,  0.+0.05j      ,  0.+0.j        ,  0.+0.12875j   ]])"
      ]
     },
     "execution_count": 174,
     "metadata": {},
     "output_type": "execute_result"
    }
   ],
   "source": [
    "Z0 = np.linalg.inv(Y0)\n",
    "Z0"
   ]
  },
  {
   "cell_type": "code",
   "execution_count": 175,
   "id": "e784cd07",
   "metadata": {},
   "outputs": [
    {
     "data": {
      "text/plain": [
       "-6.449797784420603j"
      ]
     },
     "execution_count": 175,
     "metadata": {},
     "output_type": "execute_result"
    }
   ],
   "source": [
    "# cálculo do curto-circuito 3ph na barra 23\n",
    "Icc3ph = 1.05 / Z1[4, 4]\n",
    "Icc3ph"
   ]
  },
  {
   "cell_type": "code",
   "execution_count": 176,
   "id": "557ddbaf",
   "metadata": {},
   "outputs": [
    {
     "data": {
      "text/plain": [
       "-2.2716855430315865j"
      ]
     },
     "execution_count": 176,
     "metadata": {},
     "output_type": "execute_result"
    }
   ],
   "source": [
    "# Cálculo da corrente de falta monofásica na barra 23:\n",
    "I0 = 1.05 / (Z1[4, 4] + Z2[4, 4] + Z0[4, 4])\n",
    "I0"
   ]
  },
  {
   "cell_type": "code",
   "execution_count": 177,
   "id": "605151c4",
   "metadata": {},
   "outputs": [
    {
     "data": {
      "text/plain": [
       "-6.81505662909476j"
      ]
     },
     "execution_count": 177,
     "metadata": {},
     "output_type": "execute_result"
    }
   ],
   "source": [
    "Ia = 3 * I0\n",
    "Ia"
   ]
  },
  {
   "cell_type": "code",
   "execution_count": 178,
   "id": "b4648c1b",
   "metadata": {},
   "outputs": [
    {
     "data": {
      "text/plain": [
       "-3.14878589188322j"
      ]
     },
     "execution_count": 178,
     "metadata": {},
     "output_type": "execute_result"
    }
   ],
   "source": [
    "# Cálculo da corrente de falta bifásica na barra 23:\n",
    "I1 = 1.05 / (Z1[4, 4] + Z2[4, 4])\n",
    "I1"
   ]
  },
  {
   "cell_type": "code",
   "execution_count": 179,
   "id": "fbf4cf5e",
   "metadata": {},
   "outputs": [],
   "source": [
    "I2 = -I1"
   ]
  },
  {
   "cell_type": "code",
   "execution_count": 180,
   "id": "6f308164",
   "metadata": {},
   "outputs": [
    {
     "data": {
      "text/plain": [
       "array([[0.        ],\n",
       "       [5.45385715],\n",
       "       [5.45385715]])"
      ]
     },
     "execution_count": 180,
     "metadata": {},
     "output_type": "execute_result"
    }
   ],
   "source": [
    "abs(np.dot(A,np.array([[0.0, I1, I2]]).transpose()))"
   ]
  },
  {
   "cell_type": "code",
   "execution_count": 181,
   "id": "6c9ddce0",
   "metadata": {},
   "outputs": [
    {
     "data": {
      "text/plain": [
       "-4.445708423427752j"
      ]
     },
     "execution_count": 181,
     "metadata": {},
     "output_type": "execute_result"
    }
   ],
   "source": [
    "# Cálculo da falta bifásica à terra na barra 23:\n",
    "I1 = 1.05 / (Z1[4, 4] + (Z2[4, 4] * Z0[4, 4]) / (Z2[4, 4] + Z0[4, 4]))\n",
    "I1"
   ]
  },
  {
   "cell_type": "code",
   "execution_count": 182,
   "id": "5d37c7c8",
   "metadata": {},
   "outputs": [
    {
     "data": {
      "text/plain": [
       "1.9116708789306744j"
      ]
     },
     "execution_count": 182,
     "metadata": {},
     "output_type": "execute_result"
    }
   ],
   "source": [
    "I2 = -I1 * Z0[4, 4] / (Z0[4, 4] + Z2[4, 4])\n",
    "I2"
   ]
  },
  {
   "cell_type": "code",
   "execution_count": 183,
   "id": "76131120",
   "metadata": {},
   "outputs": [
    {
     "data": {
      "text/plain": [
       "2.5340375444970777j"
      ]
     },
     "execution_count": 183,
     "metadata": {},
     "output_type": "execute_result"
    }
   ],
   "source": [
    "I0 = -I1 * Z2[4, 4] / (Z0[4, 4] + Z2[4, 4])\n",
    "I0"
   ]
  },
  {
   "cell_type": "code",
   "execution_count": 184,
   "id": "125b4d1b",
   "metadata": {},
   "outputs": [
    {
     "data": {
      "text/plain": [
       "array([[0.        ],\n",
       "       [6.69030887],\n",
       "       [6.69030887]])"
      ]
     },
     "execution_count": 184,
     "metadata": {},
     "output_type": "execute_result"
    }
   ],
   "source": [
    "abs(np.dot(A,np.array([[I0, I1, I2]]).transpose()))"
   ]
  }
 ],
 "metadata": {
  "kernelspec": {
   "display_name": "Python 3 (ipykernel)",
   "language": "python",
   "name": "python3"
  },
  "language_info": {
   "codemirror_mode": {
    "name": "ipython",
    "version": 3
   },
   "file_extension": ".py",
   "mimetype": "text/x-python",
   "name": "python",
   "nbconvert_exporter": "python",
   "pygments_lexer": "ipython3",
   "version": "3.10.14"
  }
 },
 "nbformat": 4,
 "nbformat_minor": 5
}
